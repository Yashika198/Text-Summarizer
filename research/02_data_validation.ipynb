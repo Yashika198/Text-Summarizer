{
 "cells": [
  {
   "cell_type": "code",
   "execution_count": 1,
   "id": "825ef699",
   "metadata": {},
   "outputs": [],
   "source": [
    "import os"
   ]
  },
  {
   "cell_type": "code",
   "execution_count": 2,
   "id": "2321c02e",
   "metadata": {},
   "outputs": [
    {
     "data": {
      "text/plain": [
       "'e:\\\\Text-Summarizer\\\\research'"
      ]
     },
     "execution_count": 2,
     "metadata": {},
     "output_type": "execute_result"
    }
   ],
   "source": [
    "%pwd"
   ]
  },
  {
   "cell_type": "code",
   "execution_count": 8,
   "id": "a4437cee",
   "metadata": {},
   "outputs": [],
   "source": [
    "os.chdir(\"../\")"
   ]
  },
  {
   "cell_type": "code",
   "execution_count": 9,
   "id": "b97a666c",
   "metadata": {},
   "outputs": [],
   "source": [
    "from dataclasses import dataclass\n",
    "from pathlib import Path\n",
    "\n",
    "@dataclass(frozen=True)\n",
    "class DataValidationConfig:\n",
    "    root_dir: Path\n",
    "    STATUS_FILE: str\n",
    "    ALL_REQUIRED_FILES: list\n",
    "    \n",
    "    "
   ]
  },
  {
   "cell_type": "code",
   "execution_count": 15,
   "id": "497fe5d0",
   "metadata": {},
   "outputs": [],
   "source": [
    "from src.textSummarizer.constants import *\n",
    "from src.textSummarizer.utils.common import read_yaml, create_directories\n",
    "\n",
    "class ConfigurationManager:\n",
    "    def __init__(self,\n",
    "     config_filepath=CONFIG_FILE_PATH,\n",
    "     params_filepath=PARAMS_FILE_PATH\n",
    "    ):\n",
    "        self.config=read_yaml(config_filepath)\n",
    "        self.params=read_yaml(params_filepath)    \n",
    "\n",
    "        create_directories([self.config.artifacts_root]) \n",
    "\n",
    "    def get_data_validation_config(self) -> DataValidationConfig:\n",
    "        config=self.config.data_validation\n",
    "        create_directories([config.root_dir]) \n",
    "\n",
    "        data_validation_config=DataValidationConfig(\n",
    "            root_dir=config.root_dir,\n",
    "            STATUS_FILE=config.STATUS_FILE,\n",
    "            ALL_REQUIRED_FILES=config.ALL_REQUIRED_FILES\n",
    "            )                       \n",
    "        return data_validation_config"
   ]
  },
  {
   "cell_type": "code",
   "execution_count": 16,
   "id": "58cc349b",
   "metadata": {},
   "outputs": [],
   "source": [
    "import os\n",
    "from src.textSummarizer.logging import logger"
   ]
  },
  {
   "cell_type": "code",
   "execution_count": 17,
   "id": "7c64e444",
   "metadata": {},
   "outputs": [],
   "source": [
    "class DataValidation:\n",
    "    def __init__(self, config: DataValidationConfig):\n",
    "        self.config=config\n",
    "    def validate_all_files_exist(self) -> bool:\n",
    "        try:\n",
    "            validation_status= None\n",
    "            all_files= os.listdir(os.path.join(\"artifacts\",\"data_ingestion\",\"samsum_dataset\"))\n",
    "            for file in all_files:\n",
    "                if file not in self.config.ALL_REQUIRED_FILES:\n",
    "                    validation_status=False\n",
    "                    with open(self.config.STATUS_FILE, 'w') as f:\n",
    "                        f.write(f\"Validation status:{validation_status}\")\n",
    "                else:\n",
    "                    validation_status= True\n",
    "                    with open(self.config.STATUS_FILE, 'w') as f:\n",
    "                        f.write(f\"Validation status:{validation_status}\")\n",
    "\n",
    "            return validation_status\n",
    "        \n",
    "        except Exception as e:\n",
    "            raise e"
   ]
  },
  {
   "cell_type": "code",
   "execution_count": 18,
   "id": "79d3ae0b",
   "metadata": {},
   "outputs": [
    {
     "name": "stdout",
     "output_type": "stream",
     "text": [
      "[2025-07-05 19:21:54,211: INFO: common: yaml file: config\\config.yaml loaded successfully]\n",
      "[2025-07-05 19:21:54,645: INFO: common: yaml file: params.yaml loaded successfully]\n",
      "[2025-07-05 19:21:54,652: INFO: common: Created dictionary at:{path}]\n",
      "[2025-07-05 19:21:54,652: INFO: common: Created dictionary at:{path}]\n"
     ]
    }
   ],
   "source": [
    "try:\n",
    "    config=ConfigurationManager()\n",
    "    data_validation_config= config.get_data_validation_config()\n",
    "    data_validation=DataValidation(config=data_validation_config)\n",
    "    data_validation.validate_all_files_exist()\n",
    "    \n",
    "except Exception as e:\n",
    "    raise e"
   ]
  }
 ],
 "metadata": {
  "kernelspec": {
   "display_name": "textS",
   "language": "python",
   "name": "python3"
  },
  "language_info": {
   "codemirror_mode": {
    "name": "ipython",
    "version": 3
   },
   "file_extension": ".py",
   "mimetype": "text/x-python",
   "name": "python",
   "nbconvert_exporter": "python",
   "pygments_lexer": "ipython3",
   "version": "3.8.20"
  }
 },
 "nbformat": 4,
 "nbformat_minor": 5
}
