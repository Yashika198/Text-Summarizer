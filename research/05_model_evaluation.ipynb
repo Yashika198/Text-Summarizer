{
 "cells": [
  {
   "cell_type": "code",
   "execution_count": 1,
   "id": "155f4a20",
   "metadata": {},
   "outputs": [],
   "source": [
    "import os"
   ]
  },
  {
   "cell_type": "code",
   "execution_count": 2,
   "id": "488cdd89",
   "metadata": {},
   "outputs": [
    {
     "data": {
      "text/plain": [
       "'e:\\\\Text-Summarizer\\\\research'"
      ]
     },
     "execution_count": 2,
     "metadata": {},
     "output_type": "execute_result"
    }
   ],
   "source": [
    "%pwd"
   ]
  },
  {
   "cell_type": "code",
   "execution_count": 3,
   "id": "0b1b39e0",
   "metadata": {},
   "outputs": [],
   "source": [
    "os.chdir(\"../\")"
   ]
  },
  {
   "cell_type": "code",
   "execution_count": 4,
   "id": "33985420",
   "metadata": {},
   "outputs": [
    {
     "data": {
      "text/plain": [
       "'e:\\\\Text-Summarizer'"
      ]
     },
     "execution_count": 4,
     "metadata": {},
     "output_type": "execute_result"
    }
   ],
   "source": [
    "%pwd"
   ]
  },
  {
   "cell_type": "code",
   "execution_count": 5,
   "id": "d0dc28ca",
   "metadata": {},
   "outputs": [],
   "source": [
    "from dataclasses import dataclass\n",
    "from pathlib import Path\n",
    "\n",
    "@dataclass(frozen=True)\n",
    "class ModelEvaluationConfig:\n",
    "    root_dir: Path\n",
    "    data_path:Path\n",
    "    model_path: Path\n",
    "    tokenizer_path: Path\n",
    "    metric_file_name: Path "
   ]
  },
  {
   "cell_type": "code",
   "execution_count": 6,
   "id": "09d08dc6",
   "metadata": {},
   "outputs": [],
   "source": [
    "from src.textSummarizer.constants import *\n",
    "from src.textSummarizer.utils.common import read_yaml, create_directories"
   ]
  },
  {
   "cell_type": "code",
   "execution_count": 7,
   "id": "70b3e81b",
   "metadata": {},
   "outputs": [],
   "source": [
    "class ConfigurationManager:\n",
    "    def __init__(self,\n",
    "     config_filepath=CONFIG_FILE_PATH,\n",
    "     params_filepath=PARAMS_FILE_PATH\n",
    "    ):\n",
    "        self.config=read_yaml(config_filepath)\n",
    "        self.params=read_yaml(params_filepath)    \n",
    "\n",
    "        create_directories([self.config.artifacts_root])\n",
    "\n",
    "    def get_model_evaluation_config(self) -> ModelEvaluationConfig:\n",
    "            config= self.config.model_evaluation\n",
    "            create_directories([config.root_dir])\n",
    "            model_evaluation_config= ModelEvaluationConfig(\n",
    "                root_dir=config.root_dir,\n",
    "                data_path=config.data_path,\n",
    "                model_path=config.model_path,\n",
    "                tokenizer_path=config.tokenizer_path,\n",
    "                metric_file_name=config.metric_file_name,   \n",
    "            )\n",
    "            return model_evaluation_config\n"
   ]
  },
  {
   "cell_type": "code",
   "execution_count": 8,
   "id": "f7867ab8",
   "metadata": {},
   "outputs": [
    {
     "name": "stderr",
     "output_type": "stream",
     "text": [
      "c:\\Users\\dell\\anaconda3\\envs\\textS\\lib\\site-packages\\tqdm\\auto.py:21: TqdmWarning: IProgress not found. Please update jupyter and ipywidgets. See https://ipywidgets.readthedocs.io/en/stable/user_install.html\n",
      "  from .autonotebook import tqdm as notebook_tqdm\n"
     ]
    },
    {
     "name": "stdout",
     "output_type": "stream",
     "text": [
      "[2025-07-08 15:29:58,893: INFO: config: PyTorch version 2.4.1 available.]\n"
     ]
    }
   ],
   "source": [
    "from transformers import AutoModelForSeq2SeqLM, AutoTokenizer\n",
    "from datasets import load_dataset,load_from_disk\n",
    "import evaluate\n",
    "import torch\n",
    "import pandas as pd\n",
    "from tqdm import tqdm"
   ]
  },
  {
   "cell_type": "code",
   "execution_count": 9,
   "id": "ff289c74",
   "metadata": {},
   "outputs": [],
   "source": [
    "class ModelEvaluation:\n",
    "     def __init__(self, config: ModelEvaluationConfig):\n",
    "        self.config = config\n",
    "\n",
    "#Evaluation\n",
    "     def generate_batch_sized_chunks(self,list_of_elements, batch_size):\n",
    "          for i in range(0, len(list_of_elements), batch_size):\n",
    "               yield list_of_elements[i : i + batch_size]\n",
    "     def calculate_metric_on_test_ds(self,dataset, metric, model, tokenizer,\n",
    "                                   batch_size=16, device='cuda' if torch.cuda.is_available() else \"cpu\",\n",
    "                                   column_text=\"article\",\n",
    "                                   column_summary=\"highlights\"):\n",
    "          article_batches=list(self.generate_batch_sized_chunks(dataset[column_text], batch_size))\n",
    "          target_batches=list(self.generate_batch_sized_chunks(dataset[column_summary], batch_size))\n",
    "\n",
    "          for article_batch, target_batch in tqdm(\n",
    "               zip(article_batches, target_batches), total=len(article_batches)):\n",
    "               inputs=tokenizer(article_batch, max_length=1024, truncation=True,\n",
    "                              padding=\"max_length\", return_tensors=\"pt\")\n",
    "               summaries=model.generate(input_ids=inputs[\"input_ids\"].to(device),\n",
    "                                        attention_mask=inputs[\"attention_mask\"].to(device),\n",
    "                                        length_penalty=0.8, num_beams=8, max_length=128)\n",
    "               decoded_summaries= [tokenizer.decode(s, skip_special_tokens=True,\n",
    "                                                  clean_up_tokenization_spaces=True) for s in summaries]\n",
    "\n",
    "               decoded_summaries=[d.replace(\"\", \" \") for d in decoded_summaries]\n",
    "\n",
    "               metric.add_batch(predictions=decoded_summaries, references=target_batch)\n",
    "\n",
    "               score=metric.compute()\n",
    "               return score\n",
    "     \n",
    "     def eval(self):     \n",
    "          device=\"cuda\" if torch.cuda.is_available() else \"cpu\"\n",
    "          tokenizer= AutoTokenizer.from_pretrained(self.config.tokenizer_path)\n",
    "          model_pegasus= AutoModelForSeq2SeqLM.from_pretrained(self.config.model_path).to(device)\n",
    "          \n",
    "          #loading data\n",
    "          dataset_samsum_pt=load_from_disk(self.config.data_path)\n",
    "\n",
    "          rouge_names=[\"rouge1\",\"rouge2\",\"rougeL\",\"rougeLsum\"]\n",
    "          rouge_metric=evaluate.load('rouge')\n",
    "\n",
    "          score= self.calculate_metric_on_test_ds(\n",
    "          dataset_samsum_pt['test'][0:2], rouge_metric, model_pegasus, tokenizer, batch_size=2, column_text='dialogue', column_summary='summary'\n",
    "     )\n",
    "          rouge_dict=dict((rn,score[rn]) for rn in rouge_names)\n",
    "\n",
    "          df=pd.DataFrame(rouge_dict, index=[f'pegasus'])\n",
    "          df.to_csv(self.config.metric_file_name, index=False)"
   ]
  },
  {
   "cell_type": "code",
   "execution_count": 11,
   "id": "d4b4eb9e",
   "metadata": {},
   "outputs": [
    {
     "name": "stdout",
     "output_type": "stream",
     "text": [
      "[2025-07-08 15:35:37,316: INFO: common: yaml file: config\\config.yaml loaded successfully]\n",
      "[2025-07-08 15:35:37,361: INFO: common: yaml file: params.yaml loaded successfully]\n",
      "[2025-07-08 15:35:37,367: INFO: common: Created dictionary at:{path}]\n",
      "[2025-07-08 15:35:37,384: INFO: common: Created dictionary at:{path}]\n"
     ]
    },
    {
     "name": "stderr",
     "output_type": "stream",
     "text": [
      "  0%|          | 0/1 [00:00<?, ?it/s]"
     ]
    },
    {
     "name": "stdout",
     "output_type": "stream",
     "text": [
      "[2025-07-08 15:37:49,862: INFO: rouge_scorer: Using default tokenizer.]\n"
     ]
    },
    {
     "name": "stderr",
     "output_type": "stream",
     "text": [
      "  0%|          | 0/1 [02:01<?, ?it/s]\n"
     ]
    }
   ],
   "source": [
    "try:\n",
    "    config=ConfigurationManager()\n",
    "    model_evaluation_config= config.get_model_evaluation_config()\n",
    "    model_evaluation_config=ModelEvaluation(config=model_evaluation_config)\n",
    "    model_evaluation_config.eval()\n",
    "    \n",
    "except Exception as e:\n",
    "    raise e"
   ]
  }
 ],
 "metadata": {
  "kernelspec": {
   "display_name": "textS",
   "language": "python",
   "name": "python3"
  },
  "language_info": {
   "codemirror_mode": {
    "name": "ipython",
    "version": 3
   },
   "file_extension": ".py",
   "mimetype": "text/x-python",
   "name": "python",
   "nbconvert_exporter": "python",
   "pygments_lexer": "ipython3",
   "version": "3.8.20"
  }
 },
 "nbformat": 4,
 "nbformat_minor": 5
}
